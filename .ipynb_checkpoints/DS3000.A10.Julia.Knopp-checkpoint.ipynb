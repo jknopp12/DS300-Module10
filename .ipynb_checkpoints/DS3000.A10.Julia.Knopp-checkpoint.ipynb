{
 "cells": [
  {
   "cell_type": "markdown",
   "metadata": {},
   "source": [
    "# DS 3000 - Assignment 10\n",
    "\n",
    "**Student Name**: Julia Knopp\n",
    "\n",
    "**Date**: November 8, 2023\n",
    "\n",
    "\n",
    "### Submission Instructions\n",
    "Submit this `ipynb` file to canvas.\n",
    "\n",
    "The `ipynb` format stores outputs from the last time you ran the notebook.  (When you open a notebook it has the figures and outputs of the last time you ran it too).  To ensure that your submitted `ipynb` file represents your latest code, make sure to give a fresh run `Kernel > Restart & Run All` just before uploading the `ipynb` file to Canvas.\n",
    "\n",
    "### Academic Integrity\n",
    "\n",
    "**Writing your homework is an individual effort.**  You may discuss general python problems with other students but under no circumstances should you observe another student's code which was written for this assignment, from this year or past years.  Pop into office hours or DM us in MS Teams if you have a specific question about your work or if you would like another pair of eyes or talk through your code.\n",
    "\n",
    "Don't forget to cite websites which helped you solve a problem in a unique way.  You can do this in markdown near the code or with a simple one-line comment. You do not need to cite the official python documentation.\n",
    "\n",
    "**Documentation / style counts for credit**  Please refer to the Pep-8 style, to improve the readability and consistency of your Python code. For more information, read the following article [How to Write Beautiful Python Code With PEP 8](https://realpython.com/python-pep8/) or ask your TA's for tips.\n",
    "\n",
    "**NOTE:<span style='color:red'> Write python expressions to answer ALL questions below and ensure that you use the `print()` function to display the output.</span>** Each question should be answered in a new code cell. For example, your solution for question 1.1 should be in a different code cell from your solution for question 1.2."
   ]
  },
  {
   "cell_type": "code",
   "execution_count": 41,
   "metadata": {},
   "outputs": [],
   "source": [
    "#import libraries\n",
    "import warnings\n",
    "warnings.filterwarnings('ignore')\n",
    "\n",
    "import pandas as pd\n",
    "from sklearn.model_selection import train_test_split\n",
    "from sklearn.ensemble import RandomForestRegressor\n",
    "from sklearn.metrics import mean_squared_error\n",
    "import matplotlib.pyplot as plt"
   ]
  },
  {
   "cell_type": "code",
   "execution_count": 42,
   "metadata": {},
   "outputs": [
    {
     "name": "stdout",
     "output_type": "stream",
     "text": [
      "Requirement already satisfied: fastparquet in /Users/juliaknopp/opt/anaconda3/lib/python3.9/site-packages (2023.8.0)\n",
      "Requirement already satisfied: cramjam>=2.3 in /Users/juliaknopp/opt/anaconda3/lib/python3.9/site-packages (from fastparquet) (2.7.0)\n",
      "Requirement already satisfied: packaging in /Users/juliaknopp/opt/anaconda3/lib/python3.9/site-packages (from fastparquet) (21.3)\n",
      "Requirement already satisfied: numpy>=1.20.3 in /Users/juliaknopp/opt/anaconda3/lib/python3.9/site-packages (from fastparquet) (1.26.0)\n",
      "Requirement already satisfied: fsspec in /Users/juliaknopp/opt/anaconda3/lib/python3.9/site-packages (from fastparquet) (2022.7.1)\n",
      "Requirement already satisfied: pandas>=1.5.0 in /Users/juliaknopp/opt/anaconda3/lib/python3.9/site-packages (from fastparquet) (2.1.2)\n",
      "Requirement already satisfied: tzdata>=2022.1 in /Users/juliaknopp/opt/anaconda3/lib/python3.9/site-packages (from pandas>=1.5.0->fastparquet) (2023.3)\n",
      "Requirement already satisfied: python-dateutil>=2.8.2 in /Users/juliaknopp/opt/anaconda3/lib/python3.9/site-packages (from pandas>=1.5.0->fastparquet) (2.8.2)\n",
      "Requirement already satisfied: pytz>=2020.1 in /Users/juliaknopp/opt/anaconda3/lib/python3.9/site-packages (from pandas>=1.5.0->fastparquet) (2022.1)\n",
      "Requirement already satisfied: pyparsing!=3.0.5,>=2.0.2 in /Users/juliaknopp/opt/anaconda3/lib/python3.9/site-packages (from packaging->fastparquet) (3.0.9)\n",
      "Requirement already satisfied: six>=1.5 in /Users/juliaknopp/opt/anaconda3/lib/python3.9/site-packages (from python-dateutil>=2.8.2->pandas>=1.5.0->fastparquet) (1.16.0)\n"
     ]
    }
   ],
   "source": [
    "#run this cell to install the fast parquet library\n",
    "!pip install fastparquet"
   ]
  },
  {
   "cell_type": "markdown",
   "metadata": {},
   "source": [
    "## Question 1: \n",
    "\n",
    "Load the data directly from the URL into a DataFrame."
   ]
  },
  {
   "cell_type": "code",
   "execution_count": 43,
   "metadata": {},
   "outputs": [
    {
     "name": "stdout",
     "output_type": "stream",
     "text": [
      "<class 'pandas.core.frame.DataFrame'>\n",
      "RangeIndex: 398632 entries, 0 to 398631\n",
      "Data columns (total 20 columns):\n",
      " #   Column                 Non-Null Count   Dtype         \n",
      "---  ------                 --------------   -----         \n",
      " 0   VendorID               398632 non-null  int64         \n",
      " 1   lpep_pickup_datetime   398632 non-null  datetime64[ns]\n",
      " 2   lpep_dropoff_datetime  398632 non-null  datetime64[ns]\n",
      " 3   store_and_fwd_flag     317739 non-null  object        \n",
      " 4   RatecodeID             317739 non-null  float64       \n",
      " 5   PULocationID           398632 non-null  int64         \n",
      " 6   DOLocationID           398632 non-null  int64         \n",
      " 7   passenger_count        317739 non-null  float64       \n",
      " 8   trip_distance          398632 non-null  float64       \n",
      " 9   fare_amount            398632 non-null  float64       \n",
      " 10  extra                  398632 non-null  float64       \n",
      " 11  mta_tax                398632 non-null  float64       \n",
      " 12  tip_amount             398632 non-null  float64       \n",
      " 13  tolls_amount           398632 non-null  float64       \n",
      " 14  ehail_fee              0 non-null       float64       \n",
      " 15  improvement_surcharge  398632 non-null  float64       \n",
      " 16  total_amount           398632 non-null  float64       \n",
      " 17  payment_type           317739 non-null  float64       \n",
      " 18  trip_type              317738 non-null  float64       \n",
      " 19  congestion_surcharge   317739 non-null  float64       \n",
      "dtypes: datetime64[ns](2), float64(14), int64(3), object(1)\n",
      "memory usage: 60.8+ MB\n"
     ]
    }
   ],
   "source": [
    "# provide the url to the data\n",
    "url = 'https://d37ci6vzurychx.cloudfront.net/trip-data/green_tripdata_2020-02.parquet'\n",
    "\n",
    "# load the data into a dataframe using the url\n",
    "tripdata_df = pd.read_parquet(url, #provide the URL to the data source\n",
    "                      engine = 'fastparquet')\n",
    "\n",
    "# display information about the dataframe\n",
    "tripdata_df.info()"
   ]
  },
  {
   "cell_type": "markdown",
   "metadata": {},
   "source": [
    "## Question 2: \n",
    "(10 pts) Include any previous data preparation steps, EDA and visualizations. It is ok to reuse your previous code from assignment 4. However, ensure that you update the code based on the previous feedback from the TAs. Also, address the following:\n",
    " \n",
    "Ensure that you delete any widespread missing data and handle negative dollar amounts. Justify your approach to handling negative amounts.\n",
    "\n",
    "The findings from your previous analysis would have indicated that most customers use green taxis to travel short distances. Therefore, ensure that you filter any outlier trips."
   ]
  },
  {
   "cell_type": "code",
   "execution_count": 44,
   "metadata": {},
   "outputs": [
    {
     "name": "stdout",
     "output_type": "stream",
     "text": [
      "<class 'pandas.core.frame.DataFrame'>\n",
      "Index: 289222 entries, 0 to 317737\n",
      "Data columns (total 19 columns):\n",
      " #   Column                 Non-Null Count   Dtype         \n",
      "---  ------                 --------------   -----         \n",
      " 0   VendorID               289222 non-null  int64         \n",
      " 1   lpep_pickup_datetime   289222 non-null  datetime64[ns]\n",
      " 2   lpep_dropoff_datetime  289222 non-null  datetime64[ns]\n",
      " 3   store_and_fwd_flag     289222 non-null  object        \n",
      " 4   RatecodeID             289222 non-null  int64         \n",
      " 5   PULocationID           289222 non-null  int64         \n",
      " 6   DOLocationID           289222 non-null  int64         \n",
      " 7   passenger_count        289222 non-null  int64         \n",
      " 8   trip_distance          289222 non-null  float64       \n",
      " 9   fare_amount            289222 non-null  float64       \n",
      " 10  extra                  289222 non-null  float64       \n",
      " 11  mta_tax                289222 non-null  float64       \n",
      " 12  tip_amount             289222 non-null  float64       \n",
      " 13  tolls_amount           289222 non-null  float64       \n",
      " 14  improvement_surcharge  289222 non-null  float64       \n",
      " 15  total_amount           289222 non-null  float64       \n",
      " 16  payment_type           289222 non-null  int64         \n",
      " 17  trip_type              289222 non-null  int64         \n",
      " 18  congestion_surcharge   289222 non-null  float64       \n",
      "dtypes: datetime64[ns](2), float64(9), int64(7), object(1)\n",
      "memory usage: 44.1+ MB\n"
     ]
    }
   ],
   "source": [
    "# handle invalid data\n",
    "# delete data where the passenger_count is less than one\n",
    "tripdata_df = tripdata_df[tripdata_df['passenger_count'] >= 1]\n",
    "# delete data where the trip_cost is negative\n",
    "tripdata_df = tripdata_df[tripdata_df['fare_amount'] >= 0]\n",
    "# delete data where the total_amount is negative\n",
    "tripdata_df = tripdata_df[tripdata_df['total_amount'] >= 0]\n",
    "# delete data where RatecodeID is not a value 1, 2, 3, 4, 5, 6\n",
    "tripdata_df = tripdata_df[tripdata_df['RatecodeID'] <= 6]\n",
    "# delete data where trip distance is less than 0\n",
    "tripdata_df = tripdata_df[tripdata_df['trip_distance'] >= 0]\n",
    "# delete data where tip amount is less than 0\n",
    "tripdata_df = tripdata_df[tripdata_df['tip_amount'] >= 0]\n",
    "# delete data where toll amount is less than 0\n",
    "tripdata_df = tripdata_df[tripdata_df['tolls_amount'] >= 0]\n",
    "\n",
    "# handle missing values\n",
    "# drop the ehail fee column\n",
    "tripdata_df = tripdata_df.drop(columns=['ehail_fee'])\n",
    "\n",
    "# handle null data\n",
    "# delete rows that contain null values \n",
    "tripdata_df = tripdata_df.dropna(subset=['store_and_fwd_flag'], how='all')\n",
    "\n",
    "# data type conversions\n",
    "# change data type of passenger count from float to int\n",
    "tripdata_df['passenger_count'] = tripdata_df['passenger_count'].astype(int)\n",
    "# change data type of ratecodeID from float to int\n",
    "tripdata_df['RatecodeID'] = tripdata_df['RatecodeID'].astype(int)\n",
    "# change data type of payment type from float to int\n",
    "tripdata_df['payment_type'] = tripdata_df['payment_type'].astype(int)\n",
    "# change data type of trip type from float to int\n",
    "tripdata_df['trip_type'] = tripdata_df['trip_type'].astype(int)\n",
    "\n",
    "# filter out trip distance outliers\n",
    "# get the first quartile value\n",
    "Q1 = tripdata_df['trip_distance'].quantile(0.25)\n",
    "# get the thrid quartile value\n",
    "Q3 = tripdata_df['trip_distance'].quantile(0.75)\n",
    "# calculate IQR\n",
    "IQR = Q3 - Q1\n",
    "# set the upper bound for values greater to be removed\n",
    "upper_bound = Q3 + 1.5 * IQR\n",
    "# remove the outliers\n",
    "tripdata_df = tripdata_df[(tripdata_df['trip_distance'] <= upper_bound)]\n",
    "\n",
    "# display new info about the dataframe\n",
    "tripdata_df.info()"
   ]
  },
  {
   "cell_type": "code",
   "execution_count": 45,
   "metadata": {},
   "outputs": [
    {
     "data": {
      "text/html": [
       "<div>\n",
       "<style scoped>\n",
       "    .dataframe tbody tr th:only-of-type {\n",
       "        vertical-align: middle;\n",
       "    }\n",
       "\n",
       "    .dataframe tbody tr th {\n",
       "        vertical-align: top;\n",
       "    }\n",
       "\n",
       "    .dataframe thead th {\n",
       "        text-align: right;\n",
       "    }\n",
       "</style>\n",
       "<table border=\"1\" class=\"dataframe\">\n",
       "  <thead>\n",
       "    <tr style=\"text-align: right;\">\n",
       "      <th></th>\n",
       "      <th>VendorID</th>\n",
       "      <th>lpep_pickup_datetime</th>\n",
       "      <th>lpep_dropoff_datetime</th>\n",
       "      <th>store_and_fwd_flag</th>\n",
       "      <th>RatecodeID</th>\n",
       "      <th>PULocationID</th>\n",
       "      <th>DOLocationID</th>\n",
       "      <th>passenger_count</th>\n",
       "      <th>trip_distance</th>\n",
       "      <th>fare_amount</th>\n",
       "      <th>extra</th>\n",
       "      <th>mta_tax</th>\n",
       "      <th>tip_amount</th>\n",
       "      <th>tolls_amount</th>\n",
       "      <th>improvement_surcharge</th>\n",
       "      <th>total_amount</th>\n",
       "      <th>payment_type</th>\n",
       "      <th>trip_type</th>\n",
       "      <th>congestion_surcharge</th>\n",
       "    </tr>\n",
       "  </thead>\n",
       "  <tbody>\n",
       "    <tr>\n",
       "      <th>0</th>\n",
       "      <td>2</td>\n",
       "      <td>2020-02-01 00:10:25</td>\n",
       "      <td>2020-02-01 00:14:34</td>\n",
       "      <td>N</td>\n",
       "      <td>1</td>\n",
       "      <td>74</td>\n",
       "      <td>41</td>\n",
       "      <td>1</td>\n",
       "      <td>0.76</td>\n",
       "      <td>4.5</td>\n",
       "      <td>0.5</td>\n",
       "      <td>0.5</td>\n",
       "      <td>0.00</td>\n",
       "      <td>0.0</td>\n",
       "      <td>0.3</td>\n",
       "      <td>5.80</td>\n",
       "      <td>2</td>\n",
       "      <td>1</td>\n",
       "      <td>0.0</td>\n",
       "    </tr>\n",
       "    <tr>\n",
       "      <th>1</th>\n",
       "      <td>2</td>\n",
       "      <td>2020-02-01 00:16:59</td>\n",
       "      <td>2020-02-01 00:21:35</td>\n",
       "      <td>N</td>\n",
       "      <td>1</td>\n",
       "      <td>74</td>\n",
       "      <td>74</td>\n",
       "      <td>1</td>\n",
       "      <td>0.72</td>\n",
       "      <td>5.0</td>\n",
       "      <td>0.5</td>\n",
       "      <td>0.5</td>\n",
       "      <td>0.00</td>\n",
       "      <td>0.0</td>\n",
       "      <td>0.3</td>\n",
       "      <td>6.30</td>\n",
       "      <td>1</td>\n",
       "      <td>1</td>\n",
       "      <td>0.0</td>\n",
       "    </tr>\n",
       "    <tr>\n",
       "      <th>2</th>\n",
       "      <td>2</td>\n",
       "      <td>2020-02-01 00:19:31</td>\n",
       "      <td>2020-02-01 00:25:29</td>\n",
       "      <td>N</td>\n",
       "      <td>1</td>\n",
       "      <td>223</td>\n",
       "      <td>7</td>\n",
       "      <td>1</td>\n",
       "      <td>0.89</td>\n",
       "      <td>6.0</td>\n",
       "      <td>0.5</td>\n",
       "      <td>0.5</td>\n",
       "      <td>1.82</td>\n",
       "      <td>0.0</td>\n",
       "      <td>0.3</td>\n",
       "      <td>9.12</td>\n",
       "      <td>1</td>\n",
       "      <td>1</td>\n",
       "      <td>0.0</td>\n",
       "    </tr>\n",
       "    <tr>\n",
       "      <th>3</th>\n",
       "      <td>2</td>\n",
       "      <td>2020-02-01 00:43:52</td>\n",
       "      <td>2020-02-01 00:48:58</td>\n",
       "      <td>N</td>\n",
       "      <td>1</td>\n",
       "      <td>145</td>\n",
       "      <td>145</td>\n",
       "      <td>1</td>\n",
       "      <td>1.12</td>\n",
       "      <td>6.0</td>\n",
       "      <td>0.5</td>\n",
       "      <td>0.5</td>\n",
       "      <td>0.00</td>\n",
       "      <td>0.0</td>\n",
       "      <td>0.3</td>\n",
       "      <td>7.30</td>\n",
       "      <td>2</td>\n",
       "      <td>1</td>\n",
       "      <td>0.0</td>\n",
       "    </tr>\n",
       "    <tr>\n",
       "      <th>4</th>\n",
       "      <td>2</td>\n",
       "      <td>2020-02-01 00:32:53</td>\n",
       "      <td>2020-02-01 00:35:19</td>\n",
       "      <td>N</td>\n",
       "      <td>1</td>\n",
       "      <td>166</td>\n",
       "      <td>166</td>\n",
       "      <td>1</td>\n",
       "      <td>0.65</td>\n",
       "      <td>4.0</td>\n",
       "      <td>0.5</td>\n",
       "      <td>0.5</td>\n",
       "      <td>1.06</td>\n",
       "      <td>0.0</td>\n",
       "      <td>0.3</td>\n",
       "      <td>6.36</td>\n",
       "      <td>1</td>\n",
       "      <td>1</td>\n",
       "      <td>0.0</td>\n",
       "    </tr>\n",
       "  </tbody>\n",
       "</table>\n",
       "</div>"
      ],
      "text/plain": [
       "   VendorID lpep_pickup_datetime lpep_dropoff_datetime store_and_fwd_flag  \\\n",
       "0         2  2020-02-01 00:10:25   2020-02-01 00:14:34                  N   \n",
       "1         2  2020-02-01 00:16:59   2020-02-01 00:21:35                  N   \n",
       "2         2  2020-02-01 00:19:31   2020-02-01 00:25:29                  N   \n",
       "3         2  2020-02-01 00:43:52   2020-02-01 00:48:58                  N   \n",
       "4         2  2020-02-01 00:32:53   2020-02-01 00:35:19                  N   \n",
       "\n",
       "   RatecodeID  PULocationID  DOLocationID  passenger_count  trip_distance  \\\n",
       "0           1            74            41                1           0.76   \n",
       "1           1            74            74                1           0.72   \n",
       "2           1           223             7                1           0.89   \n",
       "3           1           145           145                1           1.12   \n",
       "4           1           166           166                1           0.65   \n",
       "\n",
       "   fare_amount  extra  mta_tax  tip_amount  tolls_amount  \\\n",
       "0          4.5    0.5      0.5        0.00           0.0   \n",
       "1          5.0    0.5      0.5        0.00           0.0   \n",
       "2          6.0    0.5      0.5        1.82           0.0   \n",
       "3          6.0    0.5      0.5        0.00           0.0   \n",
       "4          4.0    0.5      0.5        1.06           0.0   \n",
       "\n",
       "   improvement_surcharge  total_amount  payment_type  trip_type  \\\n",
       "0                    0.3          5.80             2          1   \n",
       "1                    0.3          6.30             1          1   \n",
       "2                    0.3          9.12             1          1   \n",
       "3                    0.3          7.30             2          1   \n",
       "4                    0.3          6.36             1          1   \n",
       "\n",
       "   congestion_surcharge  \n",
       "0                   0.0  \n",
       "1                   0.0  \n",
       "2                   0.0  \n",
       "3                   0.0  \n",
       "4                   0.0  "
      ]
     },
     "execution_count": 45,
     "metadata": {},
     "output_type": "execute_result"
    }
   ],
   "source": [
    "tripdata_df.head()"
   ]
  },
  {
   "cell_type": "markdown",
   "metadata": {},
   "source": [
    "### Justification for Data Preparation\n",
    "\n",
    "In the data preparation step, I started with the code I used from assignment four. For example, I handled negative ride and money values by eliminating any rows that held values that were less than 0, as seen above. However, I also made some changes based on mistakes I made before. \n",
    "\n",
    "First of all, I decided to remove a lot more data with null values, rather than trying to replace it. I realize that trying to input values could definitely affect or skew the data when this many values are missing, so it is best to remove where the values are unknown.\n",
    "\n",
    "Secondly, I made the change to filter out any outliers for trip distance as stated in the problem. To approach this I found a commonly used formula to calculate upper-bound outliers (upper_bound = Q3 + 1.5 * IQR: any value above the calculated one would be considered an outlier)."
   ]
  },
  {
   "cell_type": "markdown",
   "metadata": {},
   "source": [
    "## Question 3\n",
    "(5 pts) Based on the insights from your EDA, select the required features to build your model and ensure that you encode any categorical variables. Briefly explain the reason for the features that you selected.\n",
    "Remember that Data Science relies heavily on experimentation. Therefore, you are encouraged to experiment with your data.\n",
    "\n",
    "Tip #1: ensure that you carefully consider each feature. For example, the total_amount is a variable in your dataframe; however the total amount for each trip can also be obtained if you add all the charges for each passenger (e.g. fare_amount + extra + mta_tax + tip_amount + tolls_amount + improvement_surcharge + congestion_surcharge). Therefore, is it best to include the total_amount in your model or the breakdown that shows each individual charge? Think about the pros and cons of your decisions.\n",
    "\n",
    "Tip #2: you are predicting the tip amount, therefore it should not be one of your explanatory variables."
   ]
  },
  {
   "cell_type": "code",
   "execution_count": 46,
   "metadata": {},
   "outputs": [],
   "source": [
    "# select features to be explanatory variables to build the model\n",
    "X = tripdata_df[['passenger_count',\n",
    "                 'trip_distance',\n",
    "                 'payment_type',\n",
    "                 'total_amount']]\n",
    "\n",
    "# select the tip amount as what we want to predict\n",
    "y = tripdata_df['tip_amount']"
   ]
  },
  {
   "cell_type": "markdown",
   "metadata": {},
   "source": [
    "### Explaination\n",
    "\n",
    "When trying to decide what features to include in the model, I chose to include: passenger count, trip distance, payment type, and total amount. \n",
    "\n",
    "I choose to include passenger count because I thought that maybe having more passengers would make the riders more likely to tip a higher amount. \n",
    "\n",
    "I included the trip distance because it makes sense that a shorter and more convient ride would be tipped less than a longer ride. \n",
    "\n",
    "Payment type I thought was a very important variable to focus on regarding tip. If someone is paying with cash, I feel like they are very likely to say 'keep the change' if the money amount they pay is slightly over the total amount. On the other hand, if someone is paying with a credit card, depending on the system, it may need to be inputted manuely or at a fixed rate of 10%, 15%, etc.\n",
    "\n",
    "I chose to also include total amount because I thought it would be the most important variable when considering tip amount. It is very likely, in my opinion, that riders will tip based off of their bill. As I stated before, people are likely to tip at a fixed percentage rate.\n",
    "\n",
    "##### On Tip #1\n",
    "When considering on either including total amount or including all the various charges that add up to be the total amount, there were pros and cons to each. Despite knowing how each monetary variable affects the tip amount and being able to break it down if using the various charges, I ultimately chose to just use the total amount value. This is because the time and efficiency of calculating everything is much much lower. Additionally, we are not so much exploring how variables such as congestion surcharge and mta tax affect tipping, we are just trying to predict the tip amount. Therefore, I felt it was unnecessary to calculate using all the charges."
   ]
  },
  {
   "cell_type": "markdown",
   "metadata": {},
   "source": [
    "## Question 4\n",
    "(5 pts) Partition the prepared data into train/test sets and ensure that your partitions are reproducible."
   ]
  },
  {
   "cell_type": "code",
   "execution_count": 47,
   "metadata": {},
   "outputs": [],
   "source": [
    "# preform a test-train split to partition\n",
    "X_train, X_test, y_train, y_test = train_test_split(X, # the input features\n",
    "                                                    y, # the label\n",
    "                                                    test_size=0.3, # set aside 30% of the data as a test set\n",
    "                                                    random_state=42, # reproduce the results\n",
    "                                                   )"
   ]
  },
  {
   "cell_type": "markdown",
   "metadata": {},
   "source": [
    "## Question 5\n",
    "(10 pts) Using the Random Forest algorithm, build a machine learning model that predicts the tip amount.\n",
    "\n",
    "Think about the following: Are you performing classification or regression? Ensure that you choose the appropriate Random Forest Classifier/Regressor from scikit-learn."
   ]
  },
  {
   "cell_type": "code",
   "execution_count": 48,
   "metadata": {},
   "outputs": [
    {
     "name": "stdout",
     "output_type": "stream",
     "text": [
      "The predicted tip amount is: [0.   4.76 0.   ... 0.   0.   1.31]\n"
     ]
    }
   ],
   "source": [
    "# create the random forest regressor\n",
    "rf = RandomForestRegressor(random_state=42)\n",
    "# fit the model\n",
    "rf.fit(X_train, y_train)\n",
    "\n",
    "#predict the labels for the test set\n",
    "y_pred = rf.predict(X_test).round(2)\n",
    "\n",
    "# print the predictions for tip amount\n",
    "print('The predicted tip amount is: {}'.format(y_pred))"
   ]
  },
  {
   "cell_type": "markdown",
   "metadata": {},
   "source": [
    "### Evaluation\n",
    "When thinking about the problem, I came to the conclusion that we are preforming regression, rather than classification. I believe this is the case because we are striving to predict a numerical amount. Therefore, we will be using the Random Forest Regressor."
   ]
  },
  {
   "cell_type": "markdown",
   "metadata": {},
   "source": [
    "## Question 6\n",
    "(5 pts) Evaluate the predictions from your model and comment on the results. Ensure that you choose the appropriate metric to evaluate the model and round your calculations to two decimal places. Remember that we evaluate models differently depending on the task, i.e. classification or regression."
   ]
  },
  {
   "cell_type": "code",
   "execution_count": 49,
   "metadata": {},
   "outputs": [
    {
     "name": "stdout",
     "output_type": "stream",
     "text": [
      "The mse of the model is: 0.92\n"
     ]
    }
   ],
   "source": [
    "# calculate the mean squared error\n",
    "mse = mean_squared_error(y_test, y_pred).round(2)\n",
    "\n",
    "# print the evaluatation of the prediction\n",
    "print('The mse of the model is: {}'.format(mse))"
   ]
  },
  {
   "cell_type": "markdown",
   "metadata": {},
   "source": [
    "Because the task at hand is a regression, we evaluate the model by finding the mean squared error.\n",
    "\n",
    "The mse of the model is 0.92 meaning how close the values are to the actual values. Honestly, I feel that the mse is pretty good for this context, considering tip is usually a low number. This means that the model did preform particularly well in my opinion."
   ]
  },
  {
   "cell_type": "markdown",
   "metadata": {},
   "source": [
    "## Question 7\n",
    "(15 pts) What are your thoughts on the model's prediction capability? Did it do a good job of predicting the tip_amount?\n",
    "\n",
    "Note: it is okay if your first version of the model is not the best. However, there are strategies that we can use to improve it, such as tuning.\n",
    "\n",
    "Tune the model: you can control the number of trees in your forest using the n_estimators parameter. Refer to the sample code from the lecture and also view the documentation to learn more about this algorithm and its parameters. Try at least three different values for the n_estimators parameter to determine if the model improved. Show all your steps to create, evaluate and tune each version of the model.\n",
    "\n",
    "Indicate which model performed the best."
   ]
  },
  {
   "cell_type": "code",
   "execution_count": 50,
   "metadata": {},
   "outputs": [
    {
     "name": "stdout",
     "output_type": "stream",
     "text": [
      "Model with n_estimators=20 MSE: 0.94\n",
      "Model with n_estimators=50 MSE: 0.91\n",
      "Model with n_estimators=200 MSE: 0.95\n",
      "Model with n_estimators=500 MSE: 0.94\n"
     ]
    }
   ],
   "source": [
    "# model with n_estimators=20\n",
    "rf_20 = RandomForestRegressor(n_estimators=20, random_state=42)\n",
    "rf_20.fit(X_train, y_train)\n",
    "y_pred_20 = rf_20.predict(X_test).round(2)\n",
    "mse_20 = mean_squared_error(y_test, y_pred_20).round(2)\n",
    "print('Model with n_estimators=20 MSE:', mse_20)\n",
    "\n",
    "# model with n_estimators=50\n",
    "rf_50 = RandomForestRegressor(n_estimators=50, random_state=42)\n",
    "rf_50.fit(X_train, y_train)\n",
    "y_pred_50 = rf_50.predict(X_test).round(2)\n",
    "mse_50 = mean_squared_error(y_test, y_pred_50).round(2)\n",
    "print('Model with n_estimators=50 MSE:', mse_50)\n",
    "\n",
    "# model with n_estimators=200\n",
    "rf_200 = RandomForestRegressor(n_estimators=200, random_state=42)\n",
    "rf_200.fit(X_train, y_train)\n",
    "y_pred_200 = rf_200.predict(X_test).round(2)\n",
    "mse_200 = mean_squared_error(y_test, y_pred_200).round(2)\n",
    "print('Model with n_estimators=200 MSE:', mse_200)\n",
    "\n",
    "# model with n_estimators=500\n",
    "rf_500 = RandomForestRegressor(n_estimators=500, random_state=42)\n",
    "rf_500.fit(X_train, y_train)\n",
    "y_pred_500 = rf_500.predict(X_test).round(2)\n",
    "mse_500 = mean_squared_error(y_test, y_pred_500).round(2)\n",
    "print('Model with n_estimators=500 MSE:', mse_500)"
   ]
  },
  {
   "cell_type": "markdown",
   "metadata": {},
   "source": [
    "### Analysis\n",
    "\n",
    "I think the models did a good job predicting the tip amount, however, all the models have a very similar MSE value, they vary very little. With all of the values being under a value of 1, I feel that the models did preform well. Something noteable to point out, however, is that tip amount is generally a lower value so even a prediction this low may not be super accurate.\n",
    "\n",
    "The model that performed the best based on lowest mean squared error was the model with 50 estimators. "
   ]
  },
  {
   "cell_type": "markdown",
   "metadata": {},
   "source": [
    "## Question 8\n",
    "(+5 bonus points) The Random forest has a method that returns the importance of each feature in your model. Review the documentation to learn about feature importance. After which, write the appropriate code that demonstrates which features were the most important when making the predictions. Demonstrate the feature importance using the best model and explain the results."
   ]
  },
  {
   "cell_type": "code",
   "execution_count": 51,
   "metadata": {},
   "outputs": [
    {
     "name": "stdout",
     "output_type": "stream",
     "text": [
      "           Feature  Importance\n",
      "0  passenger_count    0.010038\n",
      "1    trip_distance    0.131951\n",
      "2     payment_type    0.227783\n",
      "3     total_amount    0.630229\n"
     ]
    },
    {
     "data": {
      "image/png": "[encoded data removed]",
      "text/plain": [
       "<Figure size 640x480 with 1 Axes>"
      ]
     },
     "metadata": {},
     "output_type": "display_data"
    }
   ],
   "source": [
    "# use the best random forest\n",
    "best_rf = rf_50\n",
    "\n",
    "# get feature importances\n",
    "feature_importances = best_rf.feature_importances_\n",
    "\n",
    "# create a dataframe to display feature importances and sort findings\n",
    "feature_importance_df = pd.DataFrame({'Feature': X_train.columns, 'Importance': feature_importances})\n",
    "feature_importance_df = feature_importance_df.sort_values(by='Importance', ascending=True)\n",
    "\n",
    "# display the feature importances for each feature\n",
    "print(feature_importance_df)\n",
    "\n",
    "# create a horizontal bar graph to model the results\n",
    "plt.barh(feature_importance_df['Feature'], feature_importance_df['Importance'])\n",
    "# label x axis\n",
    "plt.xlabel('Features')\n",
    "# label y axis\n",
    "plt.ylabel('Importance')\n",
    "# give the plot a label\n",
    "plt.title('Feature Importances')\n",
    "# rotate the x axis values for readability\n",
    "plt.xticks(rotation=45)\n",
    "\n",
    "# show the plot\n",
    "plt.show()"
   ]
  },
  {
   "cell_type": "markdown",
   "metadata": {},
   "source": [
    "### Explaining Results\n",
    "Based on the bar chart above, it is seen that the total amount was the most important feature based upon the calculations. This was followed by payment type, trip distance, and then passanger count. Theoretically, I feel like this ordering definitely makes a lot of sense - as in it makes sense that passenger count was not much of a factor while total amount was a very large factor because tip could potentially be directly related through percentages (10% tip, 15% tip, etc.)."
   ]
  },
  {
   "cell_type": "markdown",
   "metadata": {},
   "source": [
    "## Helpful resources \n",
    "Don't forget to cite websites which helped you solve a problem in a unique way.  You can do this in markdown near the code or with a simple one-line comment inside the code cell, or you can list them below. \n",
    "\n",
    "You do not need to cite the official python documentation.\n"
   ]
  }
 ],
 "metadata": {
  "kernelspec": {
   "display_name": "Python 3 (ipykernel)",
   "language": "python",
   "name": "python3"
  },
  "language_info": {
   "codemirror_mode": {
    "name": "ipython",
    "version": 3
   },
   "file_extension": ".py",
   "mimetype": "text/x-python",
   "name": "python",
   "nbconvert_exporter": "python",
   "pygments_lexer": "ipython3",
   "version": "3.9.13"
  }
 },
 "nbformat": 4,
 "nbformat_minor": 4
}
