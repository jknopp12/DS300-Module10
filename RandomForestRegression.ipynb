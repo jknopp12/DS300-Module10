{
 "cells": [
  {
   "cell_type": "markdown",
   "metadata": {},
   "source": [
    "# Random Forest Regression\n",
    "\n",
    "In this notebook, we will demonstrate how to build a random forest regression model to predict the birthweight of babies using the [US births 2014](https://www.openintro.org/data/index.php?data=births14) dataset.\n",
    "\n",
    "`Note`: remember the first step is EDA. Even though its not performed in this notebook doesn’t imply that it isn’t needed. The EDA was excluded to focus on the ML task."
   ]
  },
  {
   "cell_type": "code",
   "execution_count": 4,
   "metadata": {},
   "outputs": [],
   "source": [
    "import pandas as pd\n",
    "import numpy as np\n",
    "from sklearn.ensemble import RandomForestRegressor\n",
    "from sklearn.model_selection import train_test_split\n",
    "from sklearn.metrics import mean_squared_error\n",
    "import matplotlib.pyplot as plt\n",
    "import seaborn as sns\n",
    "sns.set_style('darkgrid')"
   ]
  },
  {
   "cell_type": "code",
   "execution_count": 5,
   "metadata": {},
   "outputs": [
    {
     "data": {
      "text/html": [
       "<div>\n",
       "<style scoped>\n",
       "    .dataframe tbody tr th:only-of-type {\n",
       "        vertical-align: middle;\n",
       "    }\n",
       "\n",
       "    .dataframe tbody tr th {\n",
       "        vertical-align: top;\n",
       "    }\n",
       "\n",
       "    .dataframe thead th {\n",
       "        text-align: right;\n",
       "    }\n",
       "</style>\n",
       "<table border=\"1\" class=\"dataframe\">\n",
       "  <thead>\n",
       "    <tr style=\"text-align: right;\">\n",
       "      <th></th>\n",
       "      <th>fage</th>\n",
       "      <th>mage</th>\n",
       "      <th>mature</th>\n",
       "      <th>weeks</th>\n",
       "      <th>premie</th>\n",
       "      <th>visits</th>\n",
       "      <th>gained</th>\n",
       "      <th>weight</th>\n",
       "      <th>lowbirthweight</th>\n",
       "      <th>sex</th>\n",
       "      <th>habit</th>\n",
       "      <th>marital</th>\n",
       "      <th>whitemom</th>\n",
       "    </tr>\n",
       "  </thead>\n",
       "  <tbody>\n",
       "    <tr>\n",
       "      <th>0</th>\n",
       "      <td>34.0</td>\n",
       "      <td>34</td>\n",
       "      <td>younger mom</td>\n",
       "      <td>37</td>\n",
       "      <td>full term</td>\n",
       "      <td>14.0</td>\n",
       "      <td>28.0</td>\n",
       "      <td>6.96</td>\n",
       "      <td>not low</td>\n",
       "      <td>male</td>\n",
       "      <td>nonsmoker</td>\n",
       "      <td>married</td>\n",
       "      <td>white</td>\n",
       "    </tr>\n",
       "    <tr>\n",
       "      <th>1</th>\n",
       "      <td>36.0</td>\n",
       "      <td>31</td>\n",
       "      <td>younger mom</td>\n",
       "      <td>41</td>\n",
       "      <td>full term</td>\n",
       "      <td>12.0</td>\n",
       "      <td>41.0</td>\n",
       "      <td>8.86</td>\n",
       "      <td>not low</td>\n",
       "      <td>female</td>\n",
       "      <td>nonsmoker</td>\n",
       "      <td>married</td>\n",
       "      <td>white</td>\n",
       "    </tr>\n",
       "    <tr>\n",
       "      <th>2</th>\n",
       "      <td>37.0</td>\n",
       "      <td>36</td>\n",
       "      <td>mature mom</td>\n",
       "      <td>37</td>\n",
       "      <td>full term</td>\n",
       "      <td>10.0</td>\n",
       "      <td>28.0</td>\n",
       "      <td>7.51</td>\n",
       "      <td>not low</td>\n",
       "      <td>female</td>\n",
       "      <td>nonsmoker</td>\n",
       "      <td>married</td>\n",
       "      <td>not white</td>\n",
       "    </tr>\n",
       "    <tr>\n",
       "      <th>3</th>\n",
       "      <td>NaN</td>\n",
       "      <td>16</td>\n",
       "      <td>younger mom</td>\n",
       "      <td>38</td>\n",
       "      <td>full term</td>\n",
       "      <td>NaN</td>\n",
       "      <td>29.0</td>\n",
       "      <td>6.19</td>\n",
       "      <td>not low</td>\n",
       "      <td>male</td>\n",
       "      <td>nonsmoker</td>\n",
       "      <td>not married</td>\n",
       "      <td>white</td>\n",
       "    </tr>\n",
       "    <tr>\n",
       "      <th>4</th>\n",
       "      <td>32.0</td>\n",
       "      <td>31</td>\n",
       "      <td>younger mom</td>\n",
       "      <td>36</td>\n",
       "      <td>premie</td>\n",
       "      <td>12.0</td>\n",
       "      <td>48.0</td>\n",
       "      <td>6.75</td>\n",
       "      <td>not low</td>\n",
       "      <td>female</td>\n",
       "      <td>nonsmoker</td>\n",
       "      <td>married</td>\n",
       "      <td>white</td>\n",
       "    </tr>\n",
       "    <tr>\n",
       "      <th>5</th>\n",
       "      <td>32.0</td>\n",
       "      <td>26</td>\n",
       "      <td>younger mom</td>\n",
       "      <td>39</td>\n",
       "      <td>full term</td>\n",
       "      <td>14.0</td>\n",
       "      <td>45.0</td>\n",
       "      <td>6.69</td>\n",
       "      <td>not low</td>\n",
       "      <td>female</td>\n",
       "      <td>nonsmoker</td>\n",
       "      <td>married</td>\n",
       "      <td>white</td>\n",
       "    </tr>\n",
       "    <tr>\n",
       "      <th>6</th>\n",
       "      <td>37.0</td>\n",
       "      <td>36</td>\n",
       "      <td>mature mom</td>\n",
       "      <td>36</td>\n",
       "      <td>premie</td>\n",
       "      <td>10.0</td>\n",
       "      <td>20.0</td>\n",
       "      <td>6.13</td>\n",
       "      <td>not low</td>\n",
       "      <td>female</td>\n",
       "      <td>nonsmoker</td>\n",
       "      <td>married</td>\n",
       "      <td>white</td>\n",
       "    </tr>\n",
       "    <tr>\n",
       "      <th>7</th>\n",
       "      <td>29.0</td>\n",
       "      <td>24</td>\n",
       "      <td>younger mom</td>\n",
       "      <td>40</td>\n",
       "      <td>full term</td>\n",
       "      <td>13.0</td>\n",
       "      <td>65.0</td>\n",
       "      <td>6.74</td>\n",
       "      <td>not low</td>\n",
       "      <td>male</td>\n",
       "      <td>nonsmoker</td>\n",
       "      <td>not married</td>\n",
       "      <td>white</td>\n",
       "    </tr>\n",
       "    <tr>\n",
       "      <th>8</th>\n",
       "      <td>30.0</td>\n",
       "      <td>32</td>\n",
       "      <td>younger mom</td>\n",
       "      <td>39</td>\n",
       "      <td>full term</td>\n",
       "      <td>15.0</td>\n",
       "      <td>25.0</td>\n",
       "      <td>8.94</td>\n",
       "      <td>not low</td>\n",
       "      <td>female</td>\n",
       "      <td>nonsmoker</td>\n",
       "      <td>married</td>\n",
       "      <td>white</td>\n",
       "    </tr>\n",
       "    <tr>\n",
       "      <th>9</th>\n",
       "      <td>29.0</td>\n",
       "      <td>26</td>\n",
       "      <td>younger mom</td>\n",
       "      <td>39</td>\n",
       "      <td>full term</td>\n",
       "      <td>11.0</td>\n",
       "      <td>22.0</td>\n",
       "      <td>9.12</td>\n",
       "      <td>not low</td>\n",
       "      <td>male</td>\n",
       "      <td>nonsmoker</td>\n",
       "      <td>not married</td>\n",
       "      <td>not white</td>\n",
       "    </tr>\n",
       "  </tbody>\n",
       "</table>\n",
       "</div>"
      ],
      "text/plain": [
       "   fage  mage       mature  weeks     premie  visits  gained  weight  \\\n",
       "0  34.0    34  younger mom     37  full term    14.0    28.0    6.96   \n",
       "1  36.0    31  younger mom     41  full term    12.0    41.0    8.86   \n",
       "2  37.0    36   mature mom     37  full term    10.0    28.0    7.51   \n",
       "3   NaN    16  younger mom     38  full term     NaN    29.0    6.19   \n",
       "4  32.0    31  younger mom     36     premie    12.0    48.0    6.75   \n",
       "5  32.0    26  younger mom     39  full term    14.0    45.0    6.69   \n",
       "6  37.0    36   mature mom     36     premie    10.0    20.0    6.13   \n",
       "7  29.0    24  younger mom     40  full term    13.0    65.0    6.74   \n",
       "8  30.0    32  younger mom     39  full term    15.0    25.0    8.94   \n",
       "9  29.0    26  younger mom     39  full term    11.0    22.0    9.12   \n",
       "\n",
       "  lowbirthweight     sex      habit      marital   whitemom  \n",
       "0        not low    male  nonsmoker      married      white  \n",
       "1        not low  female  nonsmoker      married      white  \n",
       "2        not low  female  nonsmoker      married  not white  \n",
       "3        not low    male  nonsmoker  not married      white  \n",
       "4        not low  female  nonsmoker      married      white  \n",
       "5        not low  female  nonsmoker      married      white  \n",
       "6        not low  female  nonsmoker      married      white  \n",
       "7        not low    male  nonsmoker  not married      white  \n",
       "8        not low  female  nonsmoker      married      white  \n",
       "9        not low    male  nonsmoker  not married  not white  "
      ]
     },
     "execution_count": 5,
     "metadata": {},
     "output_type": "execute_result"
    }
   ],
   "source": [
    "#load the data\n",
    "df = pd.read_csv('births14.csv')\n",
    "df.head(10)"
   ]
  },
  {
   "cell_type": "code",
   "execution_count": 6,
   "metadata": {},
   "outputs": [],
   "source": [
    "#remove na values\n",
    "df.dropna(inplace=True)\n"
   ]
  },
  {
   "cell_type": "code",
   "execution_count": 7,
   "metadata": {},
   "outputs": [],
   "source": [
    "#encode the categorical feature\n",
    "df = pd.get_dummies(df, drop_first=True) #drop one of the encoded gender columns"
   ]
  },
  {
   "cell_type": "code",
   "execution_count": 8,
   "metadata": {},
   "outputs": [],
   "source": [
    "X   = df[['fage', 'mage', 'weeks', 'visits', 'gained', 'habit_smoker']] #get the input features\n",
    "y   = df['weight']              #get the target\n",
    "\n",
    "X_train, X_test, y_train, y_test = train_test_split(X,              #the input features\n",
    "                                                    y,              #the label\n",
    "                                                    test_size=0.3,  #set aside 30% of the data as the test set\n",
    "                                                    random_state=7 #reproduce the results\n",
    "                                                   )"
   ]
  },
  {
   "cell_type": "code",
   "execution_count": 9,
   "metadata": {},
   "outputs": [
    {
     "name": "stderr",
     "output_type": "stream",
     "text": [
      "/Users/juliaknopp/opt/anaconda3/lib/python3.9/site-packages/sklearn/utils/validation.py:623: FutureWarning: is_sparse is deprecated and will be removed in a future version. Check `isinstance(dtype, pd.SparseDtype)` instead.\n",
      "  if not hasattr(array, \"sparse\") and array.dtypes.apply(is_sparse).any():\n"
     ]
    },
    {
     "data": {
      "text/plain": [
       "RandomForestRegressor(random_state=7)"
      ]
     },
     "execution_count": 9,
     "metadata": {},
     "output_type": "execute_result"
    }
   ],
   "source": [
    "rf = RandomForestRegressor(random_state=7)\n",
    "rf.fit(X_train, y_train)"
   ]
  },
  {
   "cell_type": "code",
   "execution_count": 10,
   "metadata": {},
   "outputs": [
    {
     "name": "stdout",
     "output_type": "stream",
     "text": [
      "The predicted birth weight is: [7.3264 6.9065 7.6283 5.5558 7.6804 7.2991 7.0454 5.5848 7.737  7.1445\n",
      " 7.9515 7.4686 7.5141 8.4984 7.1586 7.428  7.9405 5.74   8.1144 5.849\n",
      " 7.2463 7.6105 7.814  7.9071 7.7105 6.7922 7.4871 6.7744 7.6035 7.6337\n",
      " 6.421  7.5358 4.3382 7.2458 8.1964 6.7436 8.2625 7.4075 6.6997 7.5783\n",
      " 7.1474 7.304  6.8613 8.1346 6.7288 8.2584 8.1022 7.2468 7.1899 7.4884\n",
      " 8.7886 7.9855 7.786  6.8298 7.3177 7.4246 6.7252 7.708  7.7984 7.4011\n",
      " 7.0918 6.4916 6.9616 7.1829 7.2113 7.3935 7.5103 7.4101 8.0359 7.5461\n",
      " 7.5069 7.274  7.8726 7.7554 7.7841 6.1478 7.3908 6.1544 6.8955 6.9735\n",
      " 8.0777 8.2664 7.6387 7.3926 8.048  7.2536 7.2583 7.3646 5.5316 7.7768\n",
      " 6.6681 7.1956 7.6651 7.1843 7.7001 7.6613 7.0991 7.7484 6.5486 6.5106\n",
      " 7.7003 7.0901 6.6968 8.3275 8.0216 6.3986 6.7163 6.3134 8.2325 6.7751\n",
      " 6.3421 7.9451 7.3963 7.6163 7.5333 5.9282 6.4369 7.9167 6.9727 7.317\n",
      " 8.1201 6.9511 6.6864 7.6083 6.1481 7.0498 7.5683 8.2519 7.886  7.8587\n",
      " 7.4565 7.4019 4.9988 7.5516 7.7471 5.4523 6.4306 6.6433 7.8392 7.9788\n",
      " 7.828  7.6787 7.5247 8.0059 8.2079 5.8187 7.6567 6.3704 7.1813 6.9287\n",
      " 7.5987 7.4982 7.2578 7.9615 6.3638 6.2798 7.1866 8.1034 7.0046 7.4688\n",
      " 7.7491 7.7586 8.2827 6.3663 7.2986 6.6297 7.5089 7.0909 6.6792 5.6375\n",
      " 6.0505 7.6478 5.499  7.5675 5.5514 7.1364 6.797  6.6368 7.6952 7.0958\n",
      " 7.5527 7.1655 7.0838 7.5456 6.8189 6.9853 7.3493 7.4158 4.241  5.542\n",
      " 6.8822 6.8304 8.3209 7.59   6.9246 8.0195 8.224  8.3982 6.7639 6.4556\n",
      " 6.9618 6.0097 7.5135 5.7654 7.47   7.9577 6.9164 7.6216 7.4743 7.4544\n",
      " 7.5975 7.7621 6.5872 5.5231 7.0149 8.0246 7.8968 7.282  6.8918 7.6336\n",
      " 8.3607 7.415  7.4228 7.845  6.9701 7.6483 6.8557 7.5239 7.6071 7.3585\n",
      " 7.607  5.6297 7.7248 7.6701 8.2467 7.5401 5.8715 7.0764 6.5343]\n"
     ]
    },
    {
     "name": "stderr",
     "output_type": "stream",
     "text": [
      "/Users/juliaknopp/opt/anaconda3/lib/python3.9/site-packages/sklearn/utils/validation.py:623: FutureWarning: is_sparse is deprecated and will be removed in a future version. Check `isinstance(dtype, pd.SparseDtype)` instead.\n",
      "  if not hasattr(array, \"sparse\") and array.dtypes.apply(is_sparse).any():\n"
     ]
    }
   ],
   "source": [
    "#predict the labels for the test set\n",
    "y_pred   = rf.predict(X_test)\n",
    "\n",
    "print('The predicted birth weight is: {}'.format(y_pred))"
   ]
  },
  {
   "cell_type": "code",
   "execution_count": 11,
   "metadata": {},
   "outputs": [
    {
     "name": "stdout",
     "output_type": "stream",
     "text": [
      "The mse of the model is: 1.3092007265690377\n"
     ]
    }
   ],
   "source": [
    "mse = mean_squared_error(y_test, y_pred)\n",
    "\n",
    "# Evaluate the Predictions\n",
    "print('The mse of the model is: {}'.format(mse))"
   ]
  },
  {
   "cell_type": "code",
   "execution_count": null,
   "metadata": {},
   "outputs": [],
   "source": []
  },
  {
   "cell_type": "markdown",
   "metadata": {},
   "source": [
    "The random forest regression has a lower error than the decision tree model. We should still tune our hyperparameters to identify the best model."
   ]
  }
 ],
 "metadata": {
  "kernelspec": {
   "display_name": "Python 3 (ipykernel)",
   "language": "python",
   "name": "python3"
  },
  "language_info": {
   "codemirror_mode": {
    "name": "ipython",
    "version": 3
   },
   "file_extension": ".py",
   "mimetype": "text/x-python",
   "name": "python",
   "nbconvert_exporter": "python",
   "pygments_lexer": "ipython3",
   "version": "3.9.13"
  }
 },
 "nbformat": 4,
 "nbformat_minor": 4
}
